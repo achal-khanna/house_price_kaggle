{
 "cells": [
  {
   "cell_type": "code",
   "execution_count": 12,
   "metadata": {},
   "outputs": [],
   "source": [
    "# Importing the required modules\n",
    "import pandas as pd\n",
    "import matplotlib.pyplot as plt\n",
    "from sklearn.impute import KNNImputer\n",
    "from sklearn.preprocessing import LabelEncoder\n",
    "import numpy as np"
   ]
  },
  {
   "cell_type": "code",
   "execution_count": 13,
   "metadata": {},
   "outputs": [
    {
     "data": {
      "text/plain": [
       "((1460, 80), (1459, 80), (2919, 80), (1460, 1))"
      ]
     },
     "execution_count": 13,
     "metadata": {},
     "output_type": "execute_result"
    }
   ],
   "source": [
    "df_train = pd.read_csv('train.csv')\n",
    "df_test = pd.read_csv('test.csv')\n",
    "\n",
    "# Removing the sale price column from training data to process training and testing data together\n",
    "df_final_train = pd.DataFrame({'SalePrice':df_train['SalePrice']})\n",
    "df_train = df_train.drop('SalePrice', axis = 1)\n",
    "\n",
    "# Creating a combined dataframe\n",
    "df_combined = pd.concat([df_train, df_test], axis=0)\n",
    "\n",
    "df_train.shape, df_test.shape, df_combined.shape, df_final_train.shape"
   ]
  },
  {
   "cell_type": "code",
   "execution_count": 14,
   "metadata": {},
   "outputs": [
    {
     "data": {
      "text/plain": [
       "(2919, 79)"
      ]
     },
     "execution_count": 14,
     "metadata": {},
     "output_type": "execute_result"
    }
   ],
   "source": [
    "# Removing ID column\n",
    "df_combined = df_combined.drop('Id', axis = 1)\n",
    "\n",
    "df_combined.shape"
   ]
  },
  {
   "cell_type": "code",
   "execution_count": 15,
   "metadata": {},
   "outputs": [
    {
     "data": {
      "text/plain": [
       "(2919, 72)"
      ]
     },
     "execution_count": 15,
     "metadata": {},
     "output_type": "execute_result"
    }
   ],
   "source": [
    "# Checking for null values\n",
    "percent_na_columns = df_combined.isnull().mean()\n",
    "\n",
    "# Finding the column names of those having missing values greater than 10%\n",
    "missing_columns = percent_na_columns[percent_na_columns>0.1].index\n",
    "\n",
    "df_combined = df_combined.drop(missing_columns, axis = 1)\n",
    "\n",
    "df_combined.shape"
   ]
  },
  {
   "cell_type": "code",
   "execution_count": 16,
   "metadata": {},
   "outputs": [],
   "source": [
    "# Filling categorical missing data with mode for columns having less null values\n",
    "categorical_columns = df_combined.select_dtypes(include=['object', 'category']).columns\n",
    "\n",
    "na_sum = df_combined[categorical_columns].isnull().sum()\n",
    "columns_below_threshold = na_sum[na_sum < 20].index\n",
    "columns_above_threshold = pd.Series(na_sum[na_sum >= 20].index)\n",
    "\n",
    "df_combined[columns_below_threshold] = df_combined[columns_below_threshold].fillna(df_combined[columns_below_threshold].mode().iloc[0])\n",
    "\n",
    "# Filling non-categorical missing data with mean for columns having less null values\n",
    "numerical_columns = df_combined.select_dtypes(include=['int', 'float']).columns\n",
    "\n",
    "na_sum = df_combined[numerical_columns].isnull().sum()\n",
    "num_columns_below_threshold = na_sum[na_sum < 20].index\n",
    "num_columns_above_threshold = pd.Series(na_sum[na_sum >= 20].index)\n",
    "\n",
    "df_combined[num_columns_below_threshold] = df_combined[num_columns_below_threshold].fillna(df_combined[num_columns_below_threshold].mean().iloc[0])\n",
    "\n",
    "above_threshold = pd.Index(pd.concat([columns_above_threshold, num_columns_above_threshold], axis = 0))"
   ]
  },
  {
   "cell_type": "code",
   "execution_count": 17,
   "metadata": {},
   "outputs": [
    {
     "data": {
      "text/html": [
       "<div>\n",
       "<style scoped>\n",
       "    .dataframe tbody tr th:only-of-type {\n",
       "        vertical-align: middle;\n",
       "    }\n",
       "\n",
       "    .dataframe tbody tr th {\n",
       "        vertical-align: top;\n",
       "    }\n",
       "\n",
       "    .dataframe thead th {\n",
       "        text-align: right;\n",
       "    }\n",
       "</style>\n",
       "<table border=\"1\" class=\"dataframe\">\n",
       "  <thead>\n",
       "    <tr style=\"text-align: right;\">\n",
       "      <th></th>\n",
       "      <th>MSSubClass</th>\n",
       "      <th>MSZoning</th>\n",
       "      <th>LotArea</th>\n",
       "      <th>Street</th>\n",
       "      <th>LotShape</th>\n",
       "      <th>LandContour</th>\n",
       "      <th>Utilities</th>\n",
       "      <th>LotConfig</th>\n",
       "      <th>LandSlope</th>\n",
       "      <th>Neighborhood</th>\n",
       "      <th>...</th>\n",
       "      <th>OpenPorchSF</th>\n",
       "      <th>EnclosedPorch</th>\n",
       "      <th>3SsnPorch</th>\n",
       "      <th>ScreenPorch</th>\n",
       "      <th>PoolArea</th>\n",
       "      <th>MiscVal</th>\n",
       "      <th>MoSold</th>\n",
       "      <th>YrSold</th>\n",
       "      <th>SaleType</th>\n",
       "      <th>SaleCondition</th>\n",
       "    </tr>\n",
       "  </thead>\n",
       "  <tbody>\n",
       "    <tr>\n",
       "      <th>0</th>\n",
       "      <td>60.0</td>\n",
       "      <td>3</td>\n",
       "      <td>8450.0</td>\n",
       "      <td>1</td>\n",
       "      <td>3</td>\n",
       "      <td>3</td>\n",
       "      <td>0</td>\n",
       "      <td>4</td>\n",
       "      <td>0</td>\n",
       "      <td>5</td>\n",
       "      <td>...</td>\n",
       "      <td>61.0</td>\n",
       "      <td>0.0</td>\n",
       "      <td>0.0</td>\n",
       "      <td>0.0</td>\n",
       "      <td>0.0</td>\n",
       "      <td>0.0</td>\n",
       "      <td>2.0</td>\n",
       "      <td>2008.0</td>\n",
       "      <td>8</td>\n",
       "      <td>4</td>\n",
       "    </tr>\n",
       "    <tr>\n",
       "      <th>1</th>\n",
       "      <td>20.0</td>\n",
       "      <td>3</td>\n",
       "      <td>9600.0</td>\n",
       "      <td>1</td>\n",
       "      <td>3</td>\n",
       "      <td>3</td>\n",
       "      <td>0</td>\n",
       "      <td>2</td>\n",
       "      <td>0</td>\n",
       "      <td>24</td>\n",
       "      <td>...</td>\n",
       "      <td>0.0</td>\n",
       "      <td>0.0</td>\n",
       "      <td>0.0</td>\n",
       "      <td>0.0</td>\n",
       "      <td>0.0</td>\n",
       "      <td>0.0</td>\n",
       "      <td>5.0</td>\n",
       "      <td>2007.0</td>\n",
       "      <td>8</td>\n",
       "      <td>4</td>\n",
       "    </tr>\n",
       "    <tr>\n",
       "      <th>2</th>\n",
       "      <td>60.0</td>\n",
       "      <td>3</td>\n",
       "      <td>11250.0</td>\n",
       "      <td>1</td>\n",
       "      <td>0</td>\n",
       "      <td>3</td>\n",
       "      <td>0</td>\n",
       "      <td>4</td>\n",
       "      <td>0</td>\n",
       "      <td>5</td>\n",
       "      <td>...</td>\n",
       "      <td>42.0</td>\n",
       "      <td>0.0</td>\n",
       "      <td>0.0</td>\n",
       "      <td>0.0</td>\n",
       "      <td>0.0</td>\n",
       "      <td>0.0</td>\n",
       "      <td>9.0</td>\n",
       "      <td>2008.0</td>\n",
       "      <td>8</td>\n",
       "      <td>4</td>\n",
       "    </tr>\n",
       "    <tr>\n",
       "      <th>3</th>\n",
       "      <td>70.0</td>\n",
       "      <td>3</td>\n",
       "      <td>9550.0</td>\n",
       "      <td>1</td>\n",
       "      <td>0</td>\n",
       "      <td>3</td>\n",
       "      <td>0</td>\n",
       "      <td>0</td>\n",
       "      <td>0</td>\n",
       "      <td>6</td>\n",
       "      <td>...</td>\n",
       "      <td>35.0</td>\n",
       "      <td>272.0</td>\n",
       "      <td>0.0</td>\n",
       "      <td>0.0</td>\n",
       "      <td>0.0</td>\n",
       "      <td>0.0</td>\n",
       "      <td>2.0</td>\n",
       "      <td>2006.0</td>\n",
       "      <td>8</td>\n",
       "      <td>0</td>\n",
       "    </tr>\n",
       "    <tr>\n",
       "      <th>4</th>\n",
       "      <td>60.0</td>\n",
       "      <td>3</td>\n",
       "      <td>14260.0</td>\n",
       "      <td>1</td>\n",
       "      <td>0</td>\n",
       "      <td>3</td>\n",
       "      <td>0</td>\n",
       "      <td>2</td>\n",
       "      <td>0</td>\n",
       "      <td>15</td>\n",
       "      <td>...</td>\n",
       "      <td>84.0</td>\n",
       "      <td>0.0</td>\n",
       "      <td>0.0</td>\n",
       "      <td>0.0</td>\n",
       "      <td>0.0</td>\n",
       "      <td>0.0</td>\n",
       "      <td>12.0</td>\n",
       "      <td>2008.0</td>\n",
       "      <td>8</td>\n",
       "      <td>4</td>\n",
       "    </tr>\n",
       "  </tbody>\n",
       "</table>\n",
       "<p>5 rows × 72 columns</p>\n",
       "</div>"
      ],
      "text/plain": [
       "   MSSubClass  MSZoning  LotArea  Street  LotShape  LandContour  Utilities  \\\n",
       "0        60.0         3   8450.0       1         3            3          0   \n",
       "1        20.0         3   9600.0       1         3            3          0   \n",
       "2        60.0         3  11250.0       1         0            3          0   \n",
       "3        70.0         3   9550.0       1         0            3          0   \n",
       "4        60.0         3  14260.0       1         0            3          0   \n",
       "\n",
       "   LotConfig  LandSlope  Neighborhood  ...  OpenPorchSF  EnclosedPorch  \\\n",
       "0          4          0             5  ...         61.0            0.0   \n",
       "1          2          0            24  ...          0.0            0.0   \n",
       "2          4          0             5  ...         42.0            0.0   \n",
       "3          0          0             6  ...         35.0          272.0   \n",
       "4          2          0            15  ...         84.0            0.0   \n",
       "\n",
       "   3SsnPorch  ScreenPorch  PoolArea  MiscVal  MoSold  YrSold  SaleType  \\\n",
       "0        0.0          0.0       0.0      0.0     2.0  2008.0         8   \n",
       "1        0.0          0.0       0.0      0.0     5.0  2007.0         8   \n",
       "2        0.0          0.0       0.0      0.0     9.0  2008.0         8   \n",
       "3        0.0          0.0       0.0      0.0     2.0  2006.0         8   \n",
       "4        0.0          0.0       0.0      0.0    12.0  2008.0         8   \n",
       "\n",
       "   SaleCondition  \n",
       "0              4  \n",
       "1              4  \n",
       "2              4  \n",
       "3              0  \n",
       "4              4  \n",
       "\n",
       "[5 rows x 72 columns]"
      ]
     },
     "execution_count": 17,
     "metadata": {},
     "output_type": "execute_result"
    }
   ],
   "source": [
    "# Filling all else data using k nearest neighbours\n",
    "df_encoded = df_combined.copy()\n",
    "\n",
    "encoder = LabelEncoder()\n",
    "for col in categorical_columns:\n",
    "    df_encoded[col] = encoder.fit_transform(df_combined[col].astype(str))\n",
    "    \n",
    "imputer = KNNImputer(n_neighbors = 3)\n",
    "\n",
    "df_combined = pd.DataFrame(imputer.fit_transform(df_encoded), columns=df_encoded.columns)\n",
    "\n",
    "for col in categorical_columns:\n",
    "    df_combined[col] = df_combined[col].astype(int).astype('category').cat.categories[df_combined[col].astype(int)]\n",
    "\n",
    "df_combined.head()"
   ]
  },
  {
   "cell_type": "code",
   "execution_count": 18,
   "metadata": {},
   "outputs": [],
   "source": [
    "# OneHotEncoding categorical columns and normalising data from numerical columns\n",
    "df_combined = pd.get_dummies(df_combined, columns=categorical_columns)\n",
    "\n",
    "df_combined[numerical_columns] = np.log1p(df_combined[numerical_columns])\n",
    "df_combined[numerical_columns] = (df_combined[numerical_columns] - df_combined[numerical_columns].mean()) / (df_combined[numerical_columns].std())"
   ]
  },
  {
   "cell_type": "code",
   "execution_count": 19,
   "metadata": {},
   "outputs": [],
   "source": [
    "similarity_threshold = 1\n",
    "similar_columns = []\n",
    "\n",
    "similar_columns = []\n",
    "for i in range(df_combined.shape[1]):\n",
    "    for j in range(i+1, df_combined.shape[1]):\n",
    "        similarity = np.mean(df_combined.iloc[:, i] == df_combined.iloc[:, j])\n",
    "        if similarity >= similarity_threshold:\n",
    "            similar_columns.append(df_combined.columns[j])\n",
    "\n",
    "similar_columns = set(similar_columns)\n",
    "\n",
    "df_combined = df_combined.drop(similar_columns, axis =1)\n"
   ]
  },
  {
   "cell_type": "code",
   "execution_count": 20,
   "metadata": {},
   "outputs": [
    {
     "name": "stdout",
     "output_type": "stream",
     "text": [
      "(1460, 1)\n",
      "(1460, 273)\n"
     ]
    }
   ],
   "source": [
    "df_train = df_combined.loc[:1459]\n",
    "df_test_final = df_combined.loc[1460:]\n",
    "\n",
    "print(df_final_train.shape)\n",
    "\n",
    "df_final_train = pd.concat([df_train, df_final_train], axis = 1)\n",
    "\n",
    "print(df_final_train.shape)\n",
    "\n",
    "df_final_train.to_csv('final_train.csv', index = False)\n",
    "df_test_final.to_csv('final_test.csv', index = False)"
   ]
  }
 ],
 "metadata": {
  "kernelspec": {
   "display_name": "Python 3",
   "language": "python",
   "name": "python3"
  },
  "language_info": {
   "codemirror_mode": {
    "name": "ipython",
    "version": 3
   },
   "file_extension": ".py",
   "mimetype": "text/x-python",
   "name": "python",
   "nbconvert_exporter": "python",
   "pygments_lexer": "ipython3",
   "version": "3.10.6"
  },
  "orig_nbformat": 4
 },
 "nbformat": 4,
 "nbformat_minor": 2
}
